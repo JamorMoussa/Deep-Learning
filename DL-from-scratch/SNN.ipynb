{
  "nbformat": 4,
  "nbformat_minor": 0,
  "metadata": {
    "colab": {
      "provenance": [],
      "toc_visible": true,
      "authorship_tag": "ABX9TyP0JR8LtNGmZ1rWHDYubuTS",
      "include_colab_link": true
    },
    "kernelspec": {
      "name": "python3",
      "display_name": "Python 3"
    },
    "language_info": {
      "name": "python"
    },
    "accelerator": "GPU",
    "gpuClass": "standard"
  },
  "cells": [
    {
      "cell_type": "markdown",
      "metadata": {
        "id": "view-in-github",
        "colab_type": "text"
      },
      "source": [
        "<a href=\"https://colab.research.google.com/github/JamorMoussa/Deep-Learning/blob/main/DL-from-scratch/SNN.ipynb\" target=\"_parent\"><img src=\"https://colab.research.google.com/assets/colab-badge.svg\" alt=\"Open In Colab\"/></a>"
      ]
    },
    {
      "cell_type": "code",
      "source": [
        "import torch \n",
        "import torch.nn as nn\n",
        "import numpy as np \n",
        "import torch.nn.functional as F"
      ],
      "metadata": {
        "id": "jI_X9Z-V4dSi"
      },
      "execution_count": 1,
      "outputs": []
    },
    {
      "cell_type": "code",
      "source": [
        "def f(x):\n",
        "  return np.sin(x)"
      ],
      "metadata": {
        "id": "rbjo-S0fZ-1y"
      },
      "execution_count": 2,
      "outputs": []
    },
    {
      "cell_type": "code",
      "source": [
        "class SNN(nn.Module):\n",
        "    def __init__(self):\n",
        "        super().__init__()\n",
        "        self.L1 = nn.Linear(in_features = 2, out_features= 3, bias=True)\n",
        "        self.L2 = nn.Linear(in_features = 3, out_features= 1, bias=True)\n",
        "    def forward(self,x):\n",
        "        self.z1 = self.L1(x)\n",
        "        self.a1 = F.relu(self.z1)\n",
        "        self.z2 = self.L2(self.a1)\n",
        "        return self.z2.squeeze()"
      ],
      "metadata": {
        "id": "W1b0id7W4rf5"
      },
      "execution_count": 3,
      "outputs": []
    },
    {
      "cell_type": "code",
      "source": [
        "model = SNN() \n",
        "L = nn.MSELoss()\n",
        "opt = torch.optim.SGD(model.parameters(),lr=0.0001)"
      ],
      "metadata": {
        "id": "mI4qIPkc-X4-"
      },
      "execution_count": null,
      "outputs": []
    },
    {
      "cell_type": "code",
      "source": [
        "for _ in range(1000):\n",
        "    for X,y in zip(x_train , y_train):\n",
        "      opt.zero_grad()\n",
        "      loss_value = L(model(X), y)\n",
        "      loss_value.backward()\n",
        "      opt.step()"
      ],
      "metadata": {
        "id": "yYJul7S0_Gmc"
      },
      "execution_count": null,
      "outputs": []
    },
    {
      "cell_type": "code",
      "source": [
        "x_test = torch.tensor([[1,2],\n",
        "                       [2,-3],\n",
        "                       [-1,2]]).float()\n",
        "y_test = torch.tensor([3,-1,1])"
      ],
      "metadata": {
        "id": "3QVHLI_FB93z"
      },
      "execution_count": null,
      "outputs": []
    },
    {
      "cell_type": "code",
      "source": [
        "(1 - torch.linalg.norm(model(x_test) - y_test))*100"
      ],
      "metadata": {
        "colab": {
          "base_uri": "https://localhost:8080/"
        },
        "id": "cNIFY8SRCieK",
        "outputId": "e7dd0c6d-ea50-4f87-e19a-7e8b95d6c557"
      },
      "execution_count": null,
      "outputs": [
        {
          "output_type": "execute_result",
          "data": {
            "text/plain": [
              "tensor(99.3679, grad_fn=<MulBackward0>)"
            ]
          },
          "metadata": {},
          "execution_count": 207
        }
      ]
    },
    {
      "cell_type": "code",
      "source": [],
      "metadata": {
        "id": "kuMaNq98Ckh3"
      },
      "execution_count": null,
      "outputs": []
    }
  ]
}
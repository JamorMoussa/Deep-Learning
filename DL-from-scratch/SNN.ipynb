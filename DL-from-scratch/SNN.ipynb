{
  "nbformat": 4,
  "nbformat_minor": 0,
  "metadata": {
    "colab": {
      "provenance": [],
      "toc_visible": true,
      "authorship_tag": "ABX9TyPBeDtmvv6YS9+yjQHc7/xG",
      "include_colab_link": true
    },
    "kernelspec": {
      "name": "python3",
      "display_name": "Python 3"
    },
    "language_info": {
      "name": "python"
    },
    "accelerator": "GPU",
    "gpuClass": "standard"
  },
  "cells": [
    {
      "cell_type": "markdown",
      "metadata": {
        "id": "view-in-github",
        "colab_type": "text"
      },
      "source": [
        "<a href=\"https://colab.research.google.com/github/JamorMoussa/Deep-Learning/blob/main/DL-from-scratch/SNN.ipynb\" target=\"_parent\"><img src=\"https://colab.research.google.com/assets/colab-badge.svg\" alt=\"Open In Colab\"/></a>"
      ]
    },
    {
      "cell_type": "code",
      "source": [
        "import torch \n",
        "import torch.nn as nn\n",
        "import numpy as np \n",
        "import torch.nn.functional as F"
      ],
      "metadata": {
        "id": "jI_X9Z-V4dSi"
      },
      "execution_count": 155,
      "outputs": []
    },
    {
      "cell_type": "code",
      "source": [
        "def f(x):\n",
        "  return np.sin(x)"
      ],
      "metadata": {
        "id": "rbjo-S0fZ-1y"
      },
      "execution_count": 216,
      "outputs": []
    },
    {
      "cell_type": "code",
      "source": [
        "class SNN(nn.Module):\n",
        "    def __init__(self):\n",
        "        super().__init__()\n",
        "        self.L1 = nn.Linear(in_features = 2, out_features= 3, bias=True)\n",
        "        self.L2 = nn.Linear(in_features = 3, out_features= 1, bias=True)\n",
        "    def forward(self,x):\n",
        "        self.z1 = self.L1(x)\n",
        "        self.a1 = F.relu(self.z1)\n",
        "        self.z2 = self.L2(self.a1)\n",
        "        return self.z2.squeeze()"
      ],
      "metadata": {
        "id": "W1b0id7W4rf5"
      },
      "execution_count": 198,
      "outputs": []
    },
    {
      "cell_type": "code",
      "source": [
        "[f(x) for x in x_train]"
      ],
      "metadata": {
        "colab": {
          "base_uri": "https://localhost:8080/"
        },
        "id": "cgPG-mFgUyS6",
        "outputId": "376f38d1-25b0-4881-d875-eda50f8abe56"
      },
      "execution_count": 217,
      "outputs": [
        {
          "output_type": "execute_result",
          "data": {
            "text/plain": [
              "[tensor([0.4184, 0.0114]),\n",
              " tensor([-0.9901, -0.4130]),\n",
              " tensor([ 0.2858, -0.0442]),\n",
              " tensor([ 0.7969, -0.8331]),\n",
              " tensor([-0.8884,  0.8627]),\n",
              " tensor([ 0.9977, -0.5210]),\n",
              " tensor([-0.8251, -0.4032]),\n",
              " tensor([0.9563, 0.9746]),\n",
              " tensor([ 0.8481, -0.3508]),\n",
              " tensor([ 0.7954, -0.0130]),\n",
              " tensor([0.8853, 0.7236]),\n",
              " tensor([-0.6576,  0.0010]),\n",
              " tensor([-0.9171, -0.9436]),\n",
              " tensor([-0.8505, -0.9123]),\n",
              " tensor([-0.5278,  0.1613]),\n",
              " tensor([-0.6599, -0.2196]),\n",
              " tensor([-0.4021, -0.0374]),\n",
              " tensor([-0.9525, -0.9868]),\n",
              " tensor([-0.8592,  0.9352]),\n",
              " tensor([ 1.0000, -0.8486]),\n",
              " tensor([0.2513, 0.7446]),\n",
              " tensor([-0.3746,  0.9675]),\n",
              " tensor([-0.9863,  0.5958]),\n",
              " tensor([ 0.0510, -0.3470]),\n",
              " tensor([0.0701, 0.4409]),\n",
              " tensor([ 0.9467, -0.0429]),\n",
              " tensor([-0.1735,  0.0046]),\n",
              " tensor([0.9151, 0.4037]),\n",
              " tensor([0.9856, 0.9761]),\n",
              " tensor([-0.8714,  0.8050]),\n",
              " tensor([0.7514, 0.5676]),\n",
              " tensor([-0.7704, -0.3685]),\n",
              " tensor([-0.0140, -0.4258]),\n",
              " tensor([ 0.4986, -0.6366]),\n",
              " tensor([ 0.5742, -0.4633]),\n",
              " tensor([-0.0396,  0.9422]),\n",
              " tensor([-0.9284, -0.4745]),\n",
              " tensor([ 0.0004, -0.1273]),\n",
              " tensor([-0.7765,  0.3924]),\n",
              " tensor([-0.0871, -0.9856]),\n",
              " tensor([-0.2171, -0.3802]),\n",
              " tensor([0.9763, 0.9242]),\n",
              " tensor([-0.1991,  0.9342]),\n",
              " tensor([0.1149, 0.9587]),\n",
              " tensor([-0.9563, -0.7331]),\n",
              " tensor([-0.9776, -0.3665]),\n",
              " tensor([0.6183, 0.3303]),\n",
              " tensor([0.0457, 0.3774]),\n",
              " tensor([-0.9483,  0.9106]),\n",
              " tensor([-0.3491,  0.3764]),\n",
              " tensor([-0.3769, -0.4580]),\n",
              " tensor([-0.7462,  0.0301]),\n",
              " tensor([-0.8554,  0.0612]),\n",
              " tensor([0.6922, 0.6330]),\n",
              " tensor([0.7524, 0.9950]),\n",
              " tensor([-0.3291,  0.8260]),\n",
              " tensor([0.8415, 0.7134]),\n",
              " tensor([-0.0799, -0.3353]),\n",
              " tensor([-0.9892, -0.8254]),\n",
              " tensor([ 0.2444, -0.4500]),\n",
              " tensor([ 0.7986, -1.0000]),\n",
              " tensor([0.2544, 0.9326]),\n",
              " tensor([-0.5687, -0.4142]),\n",
              " tensor([-0.7594, -0.3500]),\n",
              " tensor([0.6744, 0.0237]),\n",
              " tensor([0.6656, 0.7578]),\n",
              " tensor([0.6288, 0.8371]),\n",
              " tensor([-0.1718, -0.9551]),\n",
              " tensor([-0.7233,  0.6503]),\n",
              " tensor([-0.0952,  0.4409]),\n",
              " tensor([-0.4086,  0.9613]),\n",
              " tensor([-0.9959,  0.7388]),\n",
              " tensor([ 0.5064, -0.9707]),\n",
              " tensor([-0.4423, -0.8809]),\n",
              " tensor([0.9032, 0.7820]),\n",
              " tensor([-0.1174, -0.9023]),\n",
              " tensor([0.9005, 0.9670]),\n",
              " tensor([ 0.9986, -0.9052]),\n",
              " tensor([-0.0440,  0.5467]),\n",
              " tensor([-0.0337, -0.7382]),\n",
              " tensor([ 0.4940, -0.1645]),\n",
              " tensor([-0.9759, -0.4121]),\n",
              " tensor([ 0.4076, -0.0386]),\n",
              " tensor([-0.9840, -0.9890]),\n",
              " tensor([ 0.6039, -0.6113]),\n",
              " tensor([0.1231, 0.2218]),\n",
              " tensor([-0.6716, -0.3427]),\n",
              " tensor([ 0.7756, -0.9909]),\n",
              " tensor([-0.2202, -0.4097]),\n",
              " tensor([-0.9161,  0.9304]),\n",
              " tensor([-0.3537, -0.6785]),\n",
              " tensor([0.3800, 0.6061]),\n",
              " tensor([-0.8634, -0.7311]),\n",
              " tensor([ 0.1970, -0.7178]),\n",
              " tensor([-0.4963, -0.0372]),\n",
              " tensor([ 0.5908, -0.3351]),\n",
              " tensor([-0.8626,  0.7271]),\n",
              " tensor([ 0.9990, -0.9340]),\n",
              " tensor([0.9554, 0.2261]),\n",
              " tensor([-0.9974, -0.6106])]"
            ]
          },
          "metadata": {},
          "execution_count": 217
        }
      ]
    },
    {
      "cell_type": "code",
      "source": [
        "x_train = torch.tensor(20 * torch.rand(100,2) - 10 ).float()\n",
        "y_train = torch.tensor().float()"
      ],
      "metadata": {
        "colab": {
          "base_uri": "https://localhost:8080/",
          "height": 237
        },
        "id": "jvhQaRzx-IFu",
        "outputId": "630ad3c7-0ef3-4f8a-ab98-54124dd21b1e"
      },
      "execution_count": 214,
      "outputs": [
        {
          "output_type": "stream",
          "name": "stderr",
          "text": [
            "<ipython-input-214-566113359c51>:1: UserWarning: To copy construct from a tensor, it is recommended to use sourceTensor.clone().detach() or sourceTensor.clone().detach().requires_grad_(True), rather than torch.tensor(sourceTensor).\n",
            "  x_train = torch.tensor(20 * torch.rand(100,2) - 10 ).float()\n"
          ]
        },
        {
          "output_type": "error",
          "ename": "ValueError",
          "evalue": "ignored",
          "traceback": [
            "\u001b[0;31m---------------------------------------------------------------------------\u001b[0m",
            "\u001b[0;31mValueError\u001b[0m                                Traceback (most recent call last)",
            "\u001b[0;32m<ipython-input-214-566113359c51>\u001b[0m in \u001b[0;36m<cell line: 2>\u001b[0;34m()\u001b[0m\n\u001b[1;32m      1\u001b[0m \u001b[0mx_train\u001b[0m \u001b[0;34m=\u001b[0m \u001b[0mtorch\u001b[0m\u001b[0;34m.\u001b[0m\u001b[0mtensor\u001b[0m\u001b[0;34m(\u001b[0m\u001b[0;36m20\u001b[0m \u001b[0;34m*\u001b[0m \u001b[0mtorch\u001b[0m\u001b[0;34m.\u001b[0m\u001b[0mrand\u001b[0m\u001b[0;34m(\u001b[0m\u001b[0;36m100\u001b[0m\u001b[0;34m,\u001b[0m\u001b[0;36m2\u001b[0m\u001b[0;34m)\u001b[0m \u001b[0;34m-\u001b[0m \u001b[0;36m10\u001b[0m \u001b[0;34m)\u001b[0m\u001b[0;34m.\u001b[0m\u001b[0mfloat\u001b[0m\u001b[0;34m(\u001b[0m\u001b[0;34m)\u001b[0m\u001b[0;34m\u001b[0m\u001b[0;34m\u001b[0m\u001b[0m\n\u001b[0;32m----> 2\u001b[0;31m \u001b[0my_train\u001b[0m \u001b[0;34m=\u001b[0m \u001b[0mtorch\u001b[0m\u001b[0;34m.\u001b[0m\u001b[0mtensor\u001b[0m\u001b[0;34m(\u001b[0m\u001b[0;34m[\u001b[0m\u001b[0mf\u001b[0m\u001b[0;34m(\u001b[0m\u001b[0mx\u001b[0m\u001b[0;34m)\u001b[0m \u001b[0;32mfor\u001b[0m \u001b[0mx\u001b[0m \u001b[0;32min\u001b[0m \u001b[0mx_train\u001b[0m\u001b[0;34m]\u001b[0m\u001b[0;34m)\u001b[0m\u001b[0;34m.\u001b[0m\u001b[0mfloat\u001b[0m\u001b[0;34m(\u001b[0m\u001b[0;34m)\u001b[0m\u001b[0;34m\u001b[0m\u001b[0;34m\u001b[0m\u001b[0m\n\u001b[0m",
            "\u001b[0;31mValueError\u001b[0m: only one element tensors can be converted to Python scalars"
          ]
        }
      ]
    },
    {
      "cell_type": "code",
      "source": [
        "y_train[:3]"
      ],
      "metadata": {
        "colab": {
          "base_uri": "https://localhost:8080/"
        },
        "id": "sOjVbJ8cVtN_",
        "outputId": "7a156268-0658-4a42-d2a2-087d75391726"
      },
      "execution_count": 176,
      "outputs": [
        {
          "output_type": "execute_result",
          "data": {
            "text/plain": [
              "tensor([ 0.5553, -0.3879,  1.0888])"
            ]
          },
          "metadata": {},
          "execution_count": 176
        }
      ]
    },
    {
      "cell_type": "code",
      "source": [
        "model = SNN() \n",
        "L = nn.MSELoss()\n",
        "opt = torch.optim.SGD(model.parameters(),lr=0.0001)"
      ],
      "metadata": {
        "id": "mI4qIPkc-X4-"
      },
      "execution_count": 200,
      "outputs": []
    },
    {
      "cell_type": "code",
      "source": [
        "for _ in range(1000):\n",
        "    for X,y in zip(x_train , y_train):\n",
        "      opt.zero_grad()\n",
        "      loss_value = L(model(X), y)\n",
        "      loss_value.backward()\n",
        "      opt.step()"
      ],
      "metadata": {
        "id": "yYJul7S0_Gmc"
      },
      "execution_count": 201,
      "outputs": []
    },
    {
      "cell_type": "code",
      "source": [
        "x_test = torch.tensor([[1,2],\n",
        "                       [2,-3],\n",
        "                       [-1,2]]).float()\n",
        "y_test = torch.tensor([3,-1,1])"
      ],
      "metadata": {
        "id": "3QVHLI_FB93z"
      },
      "execution_count": 205,
      "outputs": []
    },
    {
      "cell_type": "code",
      "source": [
        "(1 - torch.linalg.norm(model(x_test) - y_test))*100"
      ],
      "metadata": {
        "colab": {
          "base_uri": "https://localhost:8080/"
        },
        "id": "cNIFY8SRCieK",
        "outputId": "e7dd0c6d-ea50-4f87-e19a-7e8b95d6c557"
      },
      "execution_count": 207,
      "outputs": [
        {
          "output_type": "execute_result",
          "data": {
            "text/plain": [
              "tensor(99.3679, grad_fn=<MulBackward0>)"
            ]
          },
          "metadata": {},
          "execution_count": 207
        }
      ]
    },
    {
      "cell_type": "code",
      "source": [],
      "metadata": {
        "id": "kuMaNq98Ckh3"
      },
      "execution_count": 319,
      "outputs": []
    }
  ]
}